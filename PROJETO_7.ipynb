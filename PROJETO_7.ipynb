{
 "cells": [
  {
   "cell_type": "code",
   "execution_count": 11,
   "metadata": {},
   "outputs": [],
   "source": [
    "import math\n",
    "import numpy as np\n",
    "import os\n",
    "import csv\n",
    "import tensorflow as tf\n",
    "# from tensorflow import keras.models\n",
    "from keras.models import Sequential\n",
    "from keras.layers import Dense"
   ]
  },
  {
   "cell_type": "code",
   "execution_count": 13,
   "metadata": {},
   "outputs": [
    {
     "name": "stdout",
     "output_type": "stream",
     "text": [
      "['OxygenSensorDTC.csv', 'DadosNominais_COMPLETOS.csv', 'KnockSensorDTC.csv', 'FuelTrimDTC.csv', 'CatalystConverterDTC.csv', 'EGRDTC.csv', 'CoolantThermostatDTC.csv']\n"
     ]
    }
   ],
   "source": [
    "arquivos_csv= os.listdir('./Dados_CSVs_2703')\n",
    "print(arquivos_csv)\n",
    "# index_arquivos=len(arquivos_csv)\n",
    "\n",
    "# print(index_arquivos)"
   ]
  },
  {
   "cell_type": "code",
   "execution_count": 1,
   "metadata": {},
   "outputs": [],
   "source": [
    "# with open('teste.txt','w+') as file:\n",
    "#     for i in range(10):\n",
    "#         file.write(str(i))\n",
    "# a = [i for i in range(10)]\n"
   ]
  },
  {
   "cell_type": "code",
   "execution_count": 5,
   "metadata": {
    "scrolled": false
   },
   "outputs": [
    {
     "name": "stdout",
     "output_type": "stream",
     "text": [
      "\n",
      " cabeçalho: OxygenSensorDTC.csv\n",
      "\n",
      " cabeçalho: DadosNominais_COMPLETOS.csv\n",
      "\n",
      " cabeçalho: KnockSensorDTC.csv\n",
      "\n",
      " cabeçalho: FuelTrimDTC.csv\n",
      "\n",
      " cabeçalho: CatalystConverterDTC.csv\n",
      "\n",
      " cabeçalho: EGRDTC.csv\n",
      "\n",
      " cabeçalho: CoolantThermostatDTC.csv\n",
      "\n",
      "Quantas vezes foi iterado meu sistema:  7\n",
      "Comprimento vetor de entrada:  18\n"
     ]
    }
   ],
   "source": [
    "contador=0 # contador para garantir que eu crio matrix3 igual a matrix somente uma vez no codigo \n",
    "# matrix3 = np.empty(shape=(0,0),dtype='object') \n",
    "\n",
    "# CRIAR UMA MATRIX DE SAIDA\n",
    "# output = numero de colunas dela vai ser o numero de eventos que eu tenho, \n",
    "\n",
    "\n",
    "\n",
    "for a in arquivos_csv:\n",
    "    obj= \"./Dados_CSVs_2703/\" + a\n",
    "    aux=[] #ressetando minha lista que sera utilizada para armazenar os valores\n",
    "    with open(obj, newline='') as file:\n",
    "        reader = csv.reader(file)\n",
    "        res = list(map(tuple, reader))\n",
    "        for j2 in range(len(res)):\n",
    "            aux.append(res[j2]) # colocando os valores dentro da lista vazia\n",
    "            \n",
    "    aux1=np.array(aux) # transformando minha lista em um array\n",
    "    aji=len(aux1) #numero de linhas\n",
    "    bji=len(aux1[0]) #numero de colunas\n",
    "    matrix = np.empty(shape=(aji-1,bji),dtype='object')  # essa é a matriz que é alocada dinamicamente a cada interação da lista de CSVs\n",
    "    h=(aji-1, index_arquivos)\n",
    "    matrix2=np.zeros(h) # criando/reiniciando a matrix dinamica vazia de zeros base para a saida\n",
    "    \n",
    "#     print(len(matrix))\n",
    "#     print(len(matrix2))\n",
    "\n",
    "    for i in range(aji):\n",
    "        \n",
    "        if i == 0:\n",
    "            print(\"\\n cabeçalho: \"+a) #pulando o cabeçalho para que a mtriz contenha apenas os valores reais\n",
    "        else:\n",
    "            vet=aux1[i]\n",
    "#             print(\"entrou no loop\") # verificação\n",
    "            for j in range(bji):\n",
    "               \n",
    "                if vet[j] == 'False': # fazendo o ajuste dos valores booleanos\n",
    "                    c=0\n",
    "                elif vet[j] == 'True':\n",
    "                    c=1\n",
    "                else:\n",
    "                    c = vet[j] # para alocar o \n",
    "                matrix2[i-1][arquivos_csv.index(a)]= 1 # matrix dinamica de saida\n",
    "                matrix[i-1][j]= float(c) # normalizando os valores todos para float, garantindo que minha matriz só tem valores\n",
    "    if contador: # checando o contador, se for é necessario criar a matriz, com as dimensões especidificadas\n",
    "        contador +=1\n",
    "#         print(\"não foi aqui\")\n",
    "        saida=np.concatenate((saida, matrix2))\n",
    "        entrada=np.concatenate((entrada, matrix)) # concatenate coloca cada matriz uma em cima da outra\n",
    "    else:\n",
    "        contador +=1 # contador para garantir que eu somente aloco esses valores na primeira vez\n",
    "#         print(\"foi aqui\") \n",
    "        saida=matrix2\n",
    "        entrada=matrix\n",
    "\n",
    "print(\"\\nQuantas vezes foi iterado meu sistema: \",contador)\n",
    "index_csv=len(entrada[0])\n",
    "print('Comprimento vetor de entrada: ',index_csv)\n",
    "\n"
   ]
  },
  {
   "cell_type": "code",
   "execution_count": 18,
   "metadata": {},
   "outputs": [
    {
     "name": "stdout",
     "output_type": "stream",
     "text": [
      "matriz a:\n",
      " [[0.74 0.68 0.0 ... 2.4000000000000004 0.0 0.0]\n",
      " [0.015 0.66 0.66 ... 3.2 0.0 0.0]\n",
      " [0.0 0.67 0.0 ... 1.6 0.0 0.0]\n",
      " ...\n",
      " [0.66 0.66 0.0 ... 3.2 0.0 0.0]\n",
      " [0.0 0.67 0.66 ... 2.4000000000000004 0.0 0.0]\n",
      " [0.21 0.68 0.0 ... 1.6 0.0 0.0]]\n",
      "matriz b:\n",
      " [[1. 0. 0. ... 0. 0. 0.]\n",
      " [0. 0. 0. ... 0. 0. 0.]\n",
      " [0. 0. 0. ... 0. 0. 0.]\n",
      " ...\n",
      " [0. 0. 0. ... 1. 0. 0.]\n",
      " [0. 1. 0. ... 0. 0. 0.]\n",
      " [0. 0. 1. ... 0. 0. 0.]]\n",
      "matriz c: \n",
      " [[0.74 0.68 0.0 ... 0.0 0.0 0.0]\n",
      " [0.015 0.66 0.66 ... 0.0 0.0 0.0]\n",
      " [0.0 0.67 0.0 ... 0.0 0.0 0.0]\n",
      " ...\n",
      " [0.66 0.66 0.0 ... 1.0 0.0 0.0]\n",
      " [0.0 0.67 0.66 ... 0.0 0.0 0.0]\n",
      " [0.21 0.68 0.0 ... 0.0 0.0 0.0]]\n",
      "matriz c randomizada: \n",
      " [[0.35 0.66 0.35 ... 0.0 0.0 0.0]\n",
      " [0.035 0.68 0.74 ... 0.0 0.0 0.0]\n",
      " [0.35 0.64 0.74 ... 0.0 1.0 0.0]\n",
      " ...\n",
      " [0.74 0.64 0.74 ... 0.0 0.0 0.0]\n",
      " [0.66 0.64 0.35 ... 0.0 0.0 0.0]\n",
      " [0.0 0.64 0.66 ... 0.0 0.0 0.0]]\n",
      "matriz a2:\n",
      " [[0.35 0.66 0.35 ... 1.6 0.0 0.0]\n",
      " [0.035 0.68 0.74 ... 4.800000000000001 0.0 0.0]\n",
      " [0.35 0.64 0.74 ... 4.0 0.0 0.0]\n",
      " ...\n",
      " [0.74 0.64 0.74 ... 4.800000000000001 0.0 0.0]\n",
      " [0.66 0.64 0.35 ... 3.2 0.0 0.0]\n",
      " [0.0 0.64 0.66 ... 4.800000000000001 0.0 0.0]]\n",
      "matriz b2:\n",
      " [[1.0 0.0 0.0 ... 0.0 0.0 0.0]\n",
      " [1.0 0.0 0.0 ... 0.0 0.0 0.0]\n",
      " [0.0 0.0 0.0 ... 0.0 1.0 0.0]\n",
      " ...\n",
      " [0.0 0.0 0.0 ... 0.0 0.0 0.0]\n",
      " [1.0 0.0 0.0 ... 0.0 0.0 0.0]\n",
      " [0.0 0.0 0.0 ... 0.0 0.0 0.0]]\n"
     ]
    }
   ],
   "source": [
    "# criar um algoritmo para randomizar os dados, pois \n",
    "a=np.array(entrada) #(5,18)\n",
    "b=np.array(saida) #(5,7)\n",
    "print('matriz a:\\n',a)\n",
    "print('matriz b:\\n',b)\n",
    "\n",
    "c = np.c_[a.reshape(len(a), -1), b.reshape(len(b), -1)]\n",
    "print('matriz c: \\n', c)\n",
    "np.random.shuffle(c)\n",
    "print('matriz c randomizada: \\n', c)\n",
    "entrada3= c[:, :a.size//len(a)].reshape(a.shape)\n",
    "saida3= c[:, a.size//len(a):].reshape(b.shape)\n",
    "print('matriz a2:\\n',entrada3)\n",
    "print('matriz b2:\\n',saida3)\n"
   ]
  },
  {
   "cell_type": "code",
   "execution_count": 21,
   "metadata": {},
   "outputs": [
    {
     "name": "stdout",
     "output_type": "stream",
     "text": [
      "dimensões saida: (9385, 7)\n"
     ]
    }
   ],
   "source": [
    "entrada_alt=np.matrix(entrada3).astype(float) \n",
    "entrada1= tf.keras.utils.normalize(entrada_alt, axis =1) #criando o array normalizado, no qual os valores não são maiores que 1\n",
    "\n",
    "\n",
    "saida=np.array(saida3).astype(float) #(5,7)\n",
    "# print(\"dimensões entrada:\", entrada2.shape)\n",
    "print(\"dimensões saida:\", saida.shape)\n",
    "neuronios=13 #(18+7)/2 =12.5\n",
    "camadas=2 #duas pois o trabalho não é muuuito complexo\n",
    "\n",
    "\n",
    "classificador = Sequential()\n",
    "classificador.add(Dense(units=13, activation= 'relu', input_dim=index_csv)) #primeira camada oculta com 18 entradas\n",
    "classificador.add(Dense(units=13, activation= 'relu')) #segunda camada oculta\n",
    "# classificador.add(Dense(units=13, activation= 'relu')) # terceira camada oculta\n",
    "classificador.add(Dense(units= index_arquivos, activation= 'sigmoid')) #saida com tamanho da saida(7 elementos)\n",
    "classificador.compile(optimizer ='adam', loss='binary_crossentropy',metrics=['accuracy'])\n",
    "\n",
    "\n",
    "epocas= 20"
   ]
  },
  {
   "cell_type": "code",
   "execution_count": 22,
   "metadata": {},
   "outputs": [
    {
     "name": "stdout",
     "output_type": "stream",
     "text": [
      "\n",
      " resultados e treino com entradas normalizadas:\n",
      "\n",
      "Epoch 1/20\n",
      "704/704 [==============================] - 2s 3ms/step - loss: 0.4330 - accuracy: 0.3002 - val_loss: 0.3889 - val_accuracy: 0.3366\n",
      "Epoch 2/20\n",
      "704/704 [==============================] - 2s 3ms/step - loss: 0.3911 - accuracy: 0.3289 - val_loss: 0.3889 - val_accuracy: 0.3366\n",
      "Epoch 3/20\n",
      "704/704 [==============================] - 2s 3ms/step - loss: 0.3909 - accuracy: 0.3289 - val_loss: 0.3896 - val_accuracy: 0.3366\n",
      "Epoch 4/20\n",
      "704/704 [==============================] - 2s 3ms/step - loss: 0.3909 - accuracy: 0.3289 - val_loss: 0.3887 - val_accuracy: 0.3366\n",
      "Epoch 5/20\n",
      "704/704 [==============================] - 2s 3ms/step - loss: 0.3908 - accuracy: 0.3289 - val_loss: 0.3890 - val_accuracy: 0.3366\n",
      "Epoch 6/20\n",
      "704/704 [==============================] - 2s 3ms/step - loss: 0.3907 - accuracy: 0.3289 - val_loss: 0.3888 - val_accuracy: 0.3366\n",
      "Epoch 7/20\n",
      "704/704 [==============================] - 2s 3ms/step - loss: 0.3907 - accuracy: 0.3289 - val_loss: 0.3889 - val_accuracy: 0.3366\n",
      "Epoch 8/20\n",
      "704/704 [==============================] - 2s 3ms/step - loss: 0.3907 - accuracy: 0.3289 - val_loss: 0.3885 - val_accuracy: 0.3366\n",
      "Epoch 9/20\n",
      "704/704 [==============================] - 2s 3ms/step - loss: 0.3907 - accuracy: 0.3289 - val_loss: 0.3886 - val_accuracy: 0.3366\n",
      "Epoch 10/20\n",
      "704/704 [==============================] - 2s 3ms/step - loss: 0.3905 - accuracy: 0.3289 - val_loss: 0.3888 - val_accuracy: 0.3366\n",
      "Epoch 11/20\n",
      "704/704 [==============================] - 2s 3ms/step - loss: 0.3905 - accuracy: 0.3289 - val_loss: 0.3891 - val_accuracy: 0.3366\n",
      "Epoch 12/20\n",
      "704/704 [==============================] - 2s 3ms/step - loss: 0.3905 - accuracy: 0.3289 - val_loss: 0.3889 - val_accuracy: 0.3366\n",
      "Epoch 13/20\n",
      "704/704 [==============================] - 2s 3ms/step - loss: 0.3905 - accuracy: 0.3289 - val_loss: 0.3892 - val_accuracy: 0.3366\n",
      "Epoch 14/20\n",
      "704/704 [==============================] - 2s 3ms/step - loss: 0.3904 - accuracy: 0.3289 - val_loss: 0.3894 - val_accuracy: 0.3366\n",
      "Epoch 15/20\n",
      "704/704 [==============================] - 2s 3ms/step - loss: 0.3904 - accuracy: 0.3289 - val_loss: 0.3888 - val_accuracy: 0.3366\n",
      "Epoch 16/20\n",
      "704/704 [==============================] - 2s 3ms/step - loss: 0.3903 - accuracy: 0.3289 - val_loss: 0.3886 - val_accuracy: 0.3366\n",
      "Epoch 17/20\n",
      "704/704 [==============================] - 2s 3ms/step - loss: 0.3903 - accuracy: 0.3291 - val_loss: 0.3886 - val_accuracy: 0.3366\n",
      "Epoch 18/20\n",
      "704/704 [==============================] - 2s 3ms/step - loss: 0.3902 - accuracy: 0.3291 - val_loss: 0.3890 - val_accuracy: 0.3366\n",
      "Epoch 19/20\n",
      "704/704 [==============================] - 2s 3ms/step - loss: 0.3901 - accuracy: 0.3292 - val_loss: 0.3893 - val_accuracy: 0.3366\n",
      "Epoch 20/20\n",
      "704/704 [==============================] - 2s 3ms/step - loss: 0.3901 - accuracy: 0.3291 - val_loss: 0.3889 - val_accuracy: 0.3362\n"
     ]
    }
   ],
   "source": [
    "\n",
    "print(\"\\n resultados e treino com entradas normalizadas:\\n\")\n",
    "hist=classificador.fit(entrada1,\n",
    "                       saida,\n",
    "                       validation_split=0.25,\n",
    "                       verbose=1,                        \n",
    "                       batch_size=10,\n",
    "                       shuffle=True,\n",
    "                       epochs=epocas)"
   ]
  },
  {
   "cell_type": "code",
   "execution_count": 20,
   "metadata": {},
   "outputs": [
    {
     "name": "stdout",
     "output_type": "stream",
     "text": [
      "\n",
      " resultados e treino com entradas normalizadas e randomizadas: \n",
      "\n",
      "Epoch 1/30\n",
      "704/704 [==============================] - 2s 3ms/step - loss: 0.4278 - accuracy: 0.2944 - val_loss: 0.3891 - val_accuracy: 0.3366\n",
      "Epoch 2/30\n",
      "704/704 [==============================] - 2s 3ms/step - loss: 0.3910 - accuracy: 0.3289 - val_loss: 0.3889 - val_accuracy: 0.3366\n",
      "Epoch 3/30\n",
      "704/704 [==============================] - 2s 3ms/step - loss: 0.3909 - accuracy: 0.3289 - val_loss: 0.3888 - val_accuracy: 0.3366\n",
      "Epoch 4/30\n",
      "704/704 [==============================] - 2s 3ms/step - loss: 0.3908 - accuracy: 0.3289 - val_loss: 0.3892 - val_accuracy: 0.3366\n",
      "Epoch 5/30\n",
      "704/704 [==============================] - 2s 3ms/step - loss: 0.3907 - accuracy: 0.3289 - val_loss: 0.3890 - val_accuracy: 0.3366\n",
      "Epoch 6/30\n",
      "704/704 [==============================] - 2s 3ms/step - loss: 0.3907 - accuracy: 0.3289 - val_loss: 0.3893 - val_accuracy: 0.3366\n",
      "Epoch 7/30\n",
      "704/704 [==============================] - 3s 4ms/step - loss: 0.3905 - accuracy: 0.3289 - val_loss: 0.3892 - val_accuracy: 0.3366\n",
      "Epoch 8/30\n",
      "704/704 [==============================] - 2s 3ms/step - loss: 0.3905 - accuracy: 0.3289 - val_loss: 0.3887 - val_accuracy: 0.3366\n",
      "Epoch 9/30\n",
      "704/704 [==============================] - 3s 4ms/step - loss: 0.3905 - accuracy: 0.3289 - val_loss: 0.3892 - val_accuracy: 0.3366\n",
      "Epoch 10/30\n",
      "704/704 [==============================] - 2s 3ms/step - loss: 0.3904 - accuracy: 0.3291 - val_loss: 0.3893 - val_accuracy: 0.3366\n",
      "Epoch 11/30\n",
      "704/704 [==============================] - 2s 3ms/step - loss: 0.3904 - accuracy: 0.3289 - val_loss: 0.3889 - val_accuracy: 0.3366\n",
      "Epoch 12/30\n",
      "704/704 [==============================] - 2s 3ms/step - loss: 0.3904 - accuracy: 0.3289 - val_loss: 0.3888 - val_accuracy: 0.3366\n",
      "Epoch 13/30\n",
      "704/704 [==============================] - 2s 3ms/step - loss: 0.3904 - accuracy: 0.3291 - val_loss: 0.3889 - val_accuracy: 0.3366\n",
      "Epoch 14/30\n",
      "704/704 [==============================] - 2s 3ms/step - loss: 0.3904 - accuracy: 0.3292 - val_loss: 0.3893 - val_accuracy: 0.3366\n",
      "Epoch 15/30\n",
      "704/704 [==============================] - 2s 3ms/step - loss: 0.3904 - accuracy: 0.3291 - val_loss: 0.3890 - val_accuracy: 0.3366\n",
      "Epoch 16/30\n",
      "704/704 [==============================] - 2s 3ms/step - loss: 0.3903 - accuracy: 0.3289 - val_loss: 0.3889 - val_accuracy: 0.3366\n",
      "Epoch 17/30\n",
      "704/704 [==============================] - 2s 3ms/step - loss: 0.3904 - accuracy: 0.3292 - val_loss: 0.3888 - val_accuracy: 0.3366\n",
      "Epoch 18/30\n",
      "704/704 [==============================] - 2s 3ms/step - loss: 0.3902 - accuracy: 0.3291 - val_loss: 0.3893 - val_accuracy: 0.3357\n",
      "Epoch 19/30\n",
      "704/704 [==============================] - 2s 3ms/step - loss: 0.3902 - accuracy: 0.3294 - val_loss: 0.3888 - val_accuracy: 0.3366\n",
      "Epoch 20/30\n",
      "704/704 [==============================] - 2s 3ms/step - loss: 0.3903 - accuracy: 0.3294 - val_loss: 0.3891 - val_accuracy: 0.3366\n",
      "Epoch 21/30\n",
      "704/704 [==============================] - 2s 3ms/step - loss: 0.3902 - accuracy: 0.3295 - val_loss: 0.3898 - val_accuracy: 0.3366\n",
      "Epoch 22/30\n",
      "704/704 [==============================] - 2s 3ms/step - loss: 0.3901 - accuracy: 0.3292 - val_loss: 0.3888 - val_accuracy: 0.3366\n",
      "Epoch 23/30\n",
      "704/704 [==============================] - 2s 3ms/step - loss: 0.3901 - accuracy: 0.3295 - val_loss: 0.3894 - val_accuracy: 0.3357\n",
      "Epoch 24/30\n",
      "704/704 [==============================] - 2s 3ms/step - loss: 0.3901 - accuracy: 0.3294 - val_loss: 0.3892 - val_accuracy: 0.3357\n",
      "Epoch 25/30\n",
      "704/704 [==============================] - 2s 3ms/step - loss: 0.3900 - accuracy: 0.3291 - val_loss: 0.3889 - val_accuracy: 0.3357\n",
      "Epoch 26/30\n",
      "704/704 [==============================] - 2s 3ms/step - loss: 0.3901 - accuracy: 0.3295 - val_loss: 0.3891 - val_accuracy: 0.3357\n",
      "Epoch 27/30\n",
      "704/704 [==============================] - 2s 3ms/step - loss: 0.3901 - accuracy: 0.3294 - val_loss: 0.3891 - val_accuracy: 0.3357\n",
      "Epoch 28/30\n",
      "704/704 [==============================] - 2s 3ms/step - loss: 0.3900 - accuracy: 0.3295 - val_loss: 0.3893 - val_accuracy: 0.3357\n",
      "Epoch 29/30\n",
      "704/704 [==============================] - 2s 3ms/step - loss: 0.3900 - accuracy: 0.3294 - val_loss: 0.3893 - val_accuracy: 0.3362\n",
      "Epoch 30/30\n",
      "704/704 [==============================] - 2s 3ms/step - loss: 0.3900 - accuracy: 0.3295 - val_loss: 0.3891 - val_accuracy: 0.3349\n"
     ]
    }
   ],
   "source": [
    "print(\"\\n resultados e treino com entradas normalizadas e randomizadas: \\n\")\n",
    "\n",
    "entrada3=np.matrix(entrada3).astype(float) \n",
    "# entrada=entrada.astype(float)\n",
    "entrada3= tf.keras.utils.normalize(entrada3, axis =1)\n",
    "hist=classificador.fit(entrada3,\n",
    "                       saida3.astype(float),\n",
    "                       validation_split=0.25,\n",
    "                       verbose=1,\n",
    "                       batch_size=10,\n",
    "                       epochs=epocas+10)"
   ]
  },
  {
   "cell_type": "code",
   "execution_count": 14,
   "metadata": {},
   "outputs": [
    {
     "name": "stdout",
     "output_type": "stream",
     "text": [
      "{'loss': [0.43411707878112793, 0.39078688621520996, 0.3906906545162201, 0.3906016945838928, 0.3905477523803711, 0.3905405104160309, 0.3904794752597809, 0.3903976380825043, 0.39040496945381165, 0.3904574513435364, 0.3902946710586548, 0.3902532458305359, 0.39033228158950806, 0.3902893364429474, 0.39025115966796875, 0.3902380168437958, 0.3902329206466675, 0.3902572989463806, 0.39019909501075745, 0.3901990056037903, 0.3901841938495636, 0.3901011645793915, 0.3901287019252777, 0.3901272714138031, 0.39009395241737366, 0.3900264799594879, 0.39007118344306946, 0.3899901509284973, 0.3900351822376251, 0.3899202048778534], 'accuracy': [0.2647058963775635, 0.32963910698890686, 0.32963910698890686, 0.32963910698890686, 0.32963910698890686, 0.32963910698890686, 0.32963910698890686, 0.32963910698890686, 0.32963910698890686, 0.32963910698890686, 0.32963910698890686, 0.32963910698890686, 0.32963910698890686, 0.32963910698890686, 0.32963910698890686, 0.32963910698890686, 0.32963910698890686, 0.32963910698890686, 0.32963910698890686, 0.32963910698890686, 0.32963910698890686, 0.32963910698890686, 0.32963910698890686, 0.32963910698890686, 0.32949700951576233, 0.32963910698890686, 0.329781174659729, 0.32949700951576233, 0.329781174659729, 0.32963910698890686], 'val_loss': [0.3904930353164673, 0.3901967406272888, 0.3899593949317932, 0.39010506868362427, 0.3901466131210327, 0.38966619968414307, 0.38992124795913696, 0.3898090720176697, 0.38986271619796753, 0.38989585638046265, 0.38978105783462524, 0.3897086977958679, 0.389577716588974, 0.38973546028137207, 0.38985684514045715, 0.38990554213523865, 0.38974371552467346, 0.38951507210731506, 0.38969528675079346, 0.38996922969818115, 0.3899232745170593, 0.3901672065258026, 0.3897044062614441, 0.3900608420372009, 0.38974493741989136, 0.3897315561771393, 0.3899196684360504, 0.3899064064025879, 0.38977766036987305, 0.3898515999317169], 'val_accuracy': [0.3344695270061493, 0.3344695270061493, 0.3344695270061493, 0.3344695270061493, 0.3344695270061493, 0.3344695270061493, 0.3344695270061493, 0.3344695270061493, 0.3344695270061493, 0.3344695270061493, 0.3344695270061493, 0.3344695270061493, 0.3344695270061493, 0.3344695270061493, 0.3344695270061493, 0.3344695270061493, 0.3344695270061493, 0.3344695270061493, 0.3344695270061493, 0.3344695270061493, 0.3344695270061493, 0.3344695270061493, 0.3344695270061493, 0.3344695270061493, 0.3344695270061493, 0.3344695270061493, 0.33489561080932617, 0.3344695270061493, 0.3344695270061493, 0.33489561080932617]} \n",
      " conteudo do dictionary\n",
      "[0.2647058963775635, 0.32963910698890686, 0.32963910698890686, 0.32963910698890686, 0.32963910698890686, 0.32963910698890686, 0.32963910698890686, 0.32963910698890686, 0.32963910698890686, 0.32963910698890686, 0.32963910698890686, 0.32963910698890686, 0.32963910698890686, 0.32963910698890686, 0.32963910698890686, 0.32963910698890686, 0.32963910698890686, 0.32963910698890686, 0.32963910698890686, 0.32963910698890686, 0.32963910698890686, 0.32963910698890686, 0.32963910698890686, 0.32963910698890686, 0.32949700951576233, 0.32963910698890686, 0.329781174659729, 0.32949700951576233, 0.329781174659729, 0.32963910698890686]\n",
      "[0.43411707878112793, 0.39078688621520996, 0.3906906545162201, 0.3906016945838928, 0.3905477523803711, 0.3905405104160309, 0.3904794752597809, 0.3903976380825043, 0.39040496945381165, 0.3904574513435364, 0.3902946710586548, 0.3902532458305359, 0.39033228158950806, 0.3902893364429474, 0.39025115966796875, 0.3902380168437958, 0.3902329206466675, 0.3902572989463806, 0.39019909501075745, 0.3901990056037903, 0.3901841938495636, 0.3901011645793915, 0.3901287019252777, 0.3901272714138031, 0.39009395241737366, 0.3900264799594879, 0.39007118344306946, 0.3899901509284973, 0.3900351822376251, 0.3899202048778534]\n"
     ]
    },
    {
     "data": {
      "image/png": "[encoded data removed]",
      "text/plain": [
       "<Figure size 432x288 with 1 Axes>"
      ]
     },
     "metadata": {
      "needs_background": "light"
     },
     "output_type": "display_data"
    },
    {
     "data": {
      "image/png": "[encoded data removed]",
      "text/plain": [
       "<Figure size 432x288 with 1 Axes>"
      ]
     },
     "metadata": {
      "needs_background": "light"
     },
     "output_type": "display_data"
    }
   ],
   "source": [
    "# https://keras.io/visualization/ \n",
    "#  visualização com keras, acessando o conteudo do historico\n",
    "import matplotlib.pyplot as plt\n",
    "\n",
    "print(hist.history, '\\n conteudo do dictionary')\n",
    "preci=hist.history['accuracy']\n",
    "print(preci)\n",
    "perdas=hist.history['loss']\n",
    "print(perdas)\n",
    "b=[i for i in range(len(preci))]\n",
    "plt.plot(b, preci), plt.grid(True)\n",
    "plt.ylabel('Accuracy')\n",
    "plt.xlabel('Epoch')\n",
    "plt.legend(['Train', 'Test'], loc='upper left')\n",
    "plt.show()\n",
    "\n",
    "plt.plot(b, perdas), plt.grid(True)\n",
    "plt.ylabel('perdas')\n",
    "plt.xlabel('Epoch')\n",
    "plt.legend(['Train', 'Test'], loc='upper left')\n",
    "plt.show()\n",
    "\n",
    "# val_ac=hist.history['val_acc']\n",
    "\n",
    "# print(preci)\n",
    "# plt.plot(hist.history['acc'])\n",
    "\n",
    "# plt.plot(hist.history['val_acc'])\n",
    "# plt.title('Model accuracy')\n",
    "# plt.ylabel('Accuracy')\n",
    "# plt.xlabel('Epoch')\n",
    "# plt.legend(['Train', 'Test'], loc='upper left')\n",
    "# plt.show()\n",
    "# print(aux.content())\n",
    "# historia=classificador.history['acc']\n",
    "# print(historia)"
   ]
  },
  {
   "cell_type": "code",
   "execution_count": null,
   "metadata": {},
   "outputs": [],
   "source": []
  }
 ],
 "metadata": {
  "kernelspec": {
   "display_name": "Python 3",
   "language": "python",
   "name": "python3"
  },
  "language_info": {
   "codemirror_mode": {
    "name": "ipython",
    "version": 3
   },
   "file_extension": ".py",
   "mimetype": "text/x-python",
   "name": "python",
   "nbconvert_exporter": "python",
   "pygments_lexer": "ipython3",
   "version": "3.6.9"
  }
 },
 "nbformat": 4,
 "nbformat_minor": 4
}
